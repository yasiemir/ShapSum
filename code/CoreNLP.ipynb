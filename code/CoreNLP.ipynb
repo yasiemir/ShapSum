{
 "cells": [
  {
   "cell_type": "markdown",
   "metadata": {},
   "source": [
    "# Stanford CoreNLP Coreference Resolution"
   ]
  },
  {
   "cell_type": "markdown",
   "metadata": {},
   "source": [
    "### Before running this script\n",
    "Run requirements.sh before running this script as it requires the coreNLP server to be up and running."
   ]
  },
  {
   "cell_type": "code",
   "execution_count": 1,
   "metadata": {
    "collapsed": false
   },
   "outputs": [],
   "source": [
    "import jsonrpclib\n",
    "from simplejson import loads\n",
    "from nltk import sent_tokenize,word_tokenize"
   ]
  },
  {
   "cell_type": "code",
   "execution_count": 2,
   "metadata": {
    "collapsed": false
   },
   "outputs": [],
   "source": [
    "server = jsonrpclib.Server(\"http://localhost:8080\")"
   ]
  },
  {
   "cell_type": "code",
   "execution_count": 3,
   "metadata": {
    "collapsed": false
   },
   "outputs": [],
   "source": [
    "string = \"Barack Obama is the president of the USA. He will leave the office this year.\"\n",
    "result = loads(server.parse(string))"
   ]
  },
  {
   "cell_type": "code",
   "execution_count": 4,
   "metadata": {
    "collapsed": false
   },
   "outputs": [
    {
     "name": "stdout",
     "output_type": "stream",
     "text": [
      "Barack Obama is the president of the USA. He will leave the office this year.\n",
      "[[[[u'the president of the USA', 0, 4, 3, 8], [u'Barack Obama', 0, 1, 0, 2]], [[u'He', 1, 0, 0, 1], [u'Barack Obama', 0, 1, 0, 2]]]]\n"
     ]
    }
   ],
   "source": [
    "print string\n",
    "print result['coref']"
   ]
  },
  {
   "cell_type": "code",
   "execution_count": 5,
   "metadata": {
    "collapsed": false
   },
   "outputs": [
    {
     "name": "stdout",
     "output_type": "stream",
     "text": [
      "<type 'unicode'>\n"
     ]
    }
   ],
   "source": [
    "import wikipedia as wk\n",
    "google = wk.page('Google')\n",
    "print type(google.content)"
   ]
  },
  {
   "cell_type": "code",
   "execution_count": 6,
   "metadata": {
    "collapsed": false
   },
   "outputs": [],
   "source": [
    "sents = sent_tokenize(google.content)"
   ]
  },
  {
   "cell_type": "code",
   "execution_count": 7,
   "metadata": {
    "collapsed": false
   },
   "outputs": [
    {
     "name": "stdout",
     "output_type": "stream",
     "text": [
      "Google is an American multinational technology company specializing in Internet-related services and products that include online advertising technologies, search, cloud computing, and software.Most of its profits are derived from AdWords, an online advertising service that places advertising near the list of search results.Google was founded by Larry Page and Sergey Brin while they were Ph.D. students at Stanford University, California.Together, they own about 14 percent of its shares and control 56 percent of the stockholder voting power through supervoting stock.They incorporated Google as a privately held company on September 4, 1998.An initial public offering (IPO) took place on August 19, 2004, and Google moved to its new headquarters in Mountain View, California, nicknamed the Googleplex.In August 2015, Google announced plans to reorganize its interests as a holding company called Alphabet Inc.When this restructuring took place on October 2, 2015, Google became Alphabet's leading subsidiary, as well as the parent for Google's Internet interests.Rapid growth since incorporation has triggered a chain of products, acquisitions and partnerships beyond Google's core search engine (Google Search).It offers online productivity software (Google Docs) including email (Gmail), a cloud storage service (Google Drive) and a social networking service (Google+).\n"
     ]
    }
   ],
   "source": [
    "string = ''\n",
    "for i in sents[0:10]:\n",
    "    string += i\n",
    "print string"
   ]
  },
  {
   "cell_type": "code",
   "execution_count": null,
   "metadata": {
    "collapsed": false,
    "scrolled": true
   },
   "outputs": [],
   "source": [
    "result = loads(server.parse(string))\n",
    "coreferences = result['coref']"
   ]
  },
  {
   "cell_type": "code",
   "execution_count": 33,
   "metadata": {
    "collapsed": false
   },
   "outputs": [
    {
     "name": "stdout",
     "output_type": "stream",
     "text": [
      "***********************************\n",
      "Google is referenced to Google 's\n",
      "an American multinational technology company specializing in Internet products and services ranging online advertising , search , cloud computing , and software.Most of its profits derive from AdWords , which places online advertisements near search listings.Google was founded by Larry Page and Sergey Brin while they were Ph.D. students at Stanford University.Together is referenced to Google 's\n",
      "the company is referenced to Google 's\n",
      "Google is referenced to Google 's\n",
      "its is referenced to Google 's\n",
      "Google is referenced to Google 's\n",
      "***********************************\n",
      "software.Most of its profits is referenced to cloud computing\n",
      "its is referenced to cloud computing\n",
      "***********************************\n",
      "they is referenced to AdWords\n",
      "Ph.D. students at Stanford University.Together is referenced to AdWords\n",
      "they is referenced to AdWords\n",
      "***********************************\n",
      "their is referenced to 2 October , Google became Alphabet 's primary subsidiary , as well as the parent for Google 's Internet interests.Rapid growth\n"
     ]
    }
   ],
   "source": [
    "for chunk in coreferences:\n",
    "    print \"***********************************\"\n",
    "    for text in chunk:\n",
    "        print '{} is referenced to {}'.format(str(text[0][0]),str(text[1][0]))"
   ]
  },
  {
   "cell_type": "code",
   "execution_count": 61,
   "metadata": {
    "collapsed": false,
    "scrolled": true
   },
   "outputs": [],
   "source": [
    "import string\n",
    "def coreference(sent1,sent2):\n",
    "    if sent1[-1] not in string.punctuation:\n",
    "        join = sent1+'.'+sent2\n",
    "    else:\n",
    "        join = sent1+sent2\n",
    "    result = loads(server.parse(join))\n",
    "    try:\n",
    "        co = result['coref']\n",
    "        return (True,co)\n",
    "    except:\n",
    "        return (False,)"
   ]
  },
  {
   "cell_type": "code",
   "execution_count": 62,
   "metadata": {
    "collapsed": false,
    "scrolled": true
   },
   "outputs": [
    {
     "name": "stdout",
     "output_type": "stream",
     "text": [
      "[[[[u'an American multinational technology company specializing in Internet products and services ranging online advertising', 0, 6, 2, 16], [u'Google', 0, 0, 0, 1]], [[u'its', 0, 25, 25, 26], [u'Google', 0, 0, 0, 1]]]]\n",
      "***********************************\n",
      "[[[[u'an American multinational technology company specializing in Internet products and services ranging online advertising , search , cloud computing', 0, 6, 2, 21], [u'Google', 0, 0, 0, 1]]], [[[u'they', 0, 33, 33, 34], [u'Larry Page and Sergey Brin', 0, 28, 27, 32]], [[u'Ph.D. students at Stanford University', 0, 36, 35, 40], [u'Larry Page and Sergey Brin', 0, 28, 27, 32]]]]\n",
      "***********************************\n",
      "[[[[u'an American multinational technology company specializing in Internet products and services ranging online advertising , search , cloud computing , and software.Together', 0, 6, 2, 24], [u'Google', 0, 0, 0, 1]]], [[[u'cloud computing', 0, 20, 19, 21], [u'software.Together', 0, 23, 23, 24]]]]\n",
      "***********************************\n",
      "[[[[u'an American multinational technology company specializing in Internet products and services ranging online advertising', 0, 6, 2, 16], [u'Google', 0, 0, 0, 1]]]]\n",
      "***********************************\n",
      "[[[[u'they', 0, 24, 24, 25], [u'AdWords', 0, 6, 6, 7]], [[u'Ph.D. students at Stanford University', 0, 27, 26, 31], [u'AdWords', 0, 6, 6, 7]]]]\n",
      "***********************************\n",
      "[[[[u'they', 0, 16, 16, 17], [u'AdWords', 0, 6, 6, 7]]]]\n",
      "***********************************\n",
      "[[[[u'they', 0, 10, 10, 11], [u'Larry Page and Sergey Brin', 0, 5, 4, 9]], [[u'Ph.D. students at Stanford University.Google is an American multinational technology company specializing in Internet products and services ranging online advertising , search , cloud computing , and software', 0, 13, 12, 40], [u'Larry Page and Sergey Brin', 0, 5, 4, 9]]]]\n",
      "***********************************\n",
      "[[[[u'its', 0, 18, 18, 19], [u'Stanford', 0, 15, 15, 16]]], [[[u'they', 0, 10, 10, 11], [u'Larry Page and Sergey Brin', 0, 5, 4, 9]]]]\n",
      "***********************************\n",
      "[[[[u'they', 0, 10, 10, 11], [u'Larry Page and Sergey Brin', 0, 5, 4, 9]], [[u'Ph.D. students at Stanford University.Together', 0, 13, 12, 17], [u'Larry Page and Sergey Brin', 0, 5, 4, 9]], [[u'they', 0, 18, 18, 19], [u'Larry Page and Sergey Brin', 0, 5, 4, 9]]]]\n",
      "***********************************\n",
      "[[[[u'they', 0, 10, 10, 11], [u'Larry Page and Sergey Brin', 0, 5, 4, 9]], [[u'Ph.D. students at Stanford University.They incorporated Google as a private company on 4 September 1998', 0, 13, 12, 27], [u'Larry Page and Sergey Brin', 0, 5, 4, 9]]]]\n",
      "***********************************\n",
      "[[[[u'they', 0, 2, 2, 3], [u'Ph.D. students at Stanford University', 0, 33, 32, 37]], [[u'they', 0, 30, 30, 31], [u'Ph.D. students at Stanford University', 0, 33, 32, 37]]]]\n",
      "***********************************\n",
      "[[[[u'Google', 1, 0, 0, 1], [u'Google', 0, 2, 2, 3]], [[u'an American multinational technology company specializing in Internet products and services ranging online advertising , search , cloud computing , and software', 1, 6, 2, 24], [u'Google', 0, 2, 2, 3]]]]\n",
      "***********************************\n",
      "[[[[u'its', 1, 2, 2, 3], [u'Google', 0, 2, 2, 3]]]]\n",
      "***********************************\n",
      "[[[[u'Google', 1, 0, 0, 1], [u'Google', 0, 2, 2, 3]]], [[[u'they', 1, 10, 10, 11], [u'Larry Page and Sergey Brin', 1, 5, 4, 9]], [[u'Ph.D. students at Stanford University', 1, 13, 12, 17], [u'Larry Page and Sergey Brin', 1, 5, 4, 9]]]]\n",
      "***********************************\n",
      "[[[[u'they', 1, 2, 2, 3], [u'They', 0, 0, 0, 1]]]]\n",
      "***********************************\n"
     ]
    }
   ],
   "source": [
    "for sent1 in sents[:5]:\n",
    "    for sent2 in sents[:5]:\n",
    "        if sent1 != sent2:\n",
    "            c = coreference(sent1,sent2)\n",
    "            if c[0] == True:\n",
    "                print c[1]\n",
    "                print '***********************************'"
   ]
  },
  {
   "cell_type": "markdown",
   "metadata": {
    "collapsed": true
   },
   "source": [
    "### Idea behind Coreference Resolution\n",
    "We can compare each string with the every other string in the text and if there exists a coreference between those two strings we can cosntruct an edge between the two strings (or decrease the weight of the edge by some lambda). If two sentences have some coreference between them then they are closer to each other as can be depicted by the small weight between the nodes pertaining to those sentences.\n",
    "#### Challenges:\n",
    "1. Many of the sentences can have coreference between them thus many of the edges will get their weights minimized in general won't affect the behaviour of algorithm on the graph.\n",
    "2. Time complexity will increase further as the time taken to find coreference is O(n-squared) (considering parsing time to be constant)"
   ]
  },
  {
   "cell_type": "code",
   "execution_count": 27,
   "metadata": {
    "collapsed": false
   },
   "outputs": [],
   "source": []
  },
  {
   "cell_type": "code",
   "execution_count": null,
   "metadata": {
    "collapsed": false
   },
   "outputs": [],
   "source": []
  },
  {
   "cell_type": "code",
   "execution_count": null,
   "metadata": {
    "collapsed": true
   },
   "outputs": [],
   "source": []
  }
 ],
 "metadata": {
  "kernelspec": {
   "display_name": "Python 2",
   "language": "python",
   "name": "python2"
  },
  "language_info": {
   "codemirror_mode": {
    "name": "ipython",
    "version": 2
   },
   "file_extension": ".py",
   "mimetype": "text/x-python",
   "name": "python",
   "nbconvert_exporter": "python",
   "pygments_lexer": "ipython2",
   "version": "2.7.12"
  }
 },
 "nbformat": 4,
 "nbformat_minor": 0
}
